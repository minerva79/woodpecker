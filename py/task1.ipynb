{
 "cells": [
  {
   "cell_type": "markdown",
   "metadata": {
    "collapsed": true,
    "pycharm": {
     "name": "#%% md\n"
    }
   },
   "source": [
    "# Test For Data Analyst Position at JobTech\n",
    "\n",
    "## Basic data retrieval (pyspark)"
   ]
  },
  {
   "cell_type": "markdown",
   "source": [
    "### Environmental parameters\n",
    "- Set environment to run Pyspark\n",
    "- Import dependent packages & functions for the notebook"
   ],
   "metadata": {
    "collapsed": false,
    "pycharm": {
     "name": "#%% md\n"
    }
   }
  },
  {
   "cell_type": "code",
   "execution_count": 1,
   "outputs": [],
   "source": [
    "import os\n",
    "os.environ[\"JAVA_HOME\"] = \"C:/Program Files/Java/jre1.8.0_311\"\n",
    "os.environ[\"SPARK_HOME\"] = \"C:/Spark/spark-3.2.0-bin-hadoop3.2\"\n",
    "\n",
    "path_drive = 'C:/Users/adam2/Documents/data_analyst_test'\n",
    "\n",
    "import findspark\n",
    "findspark.init()\n",
    "\n",
    "from pyspark.sql import SparkSession\n",
    "import pyspark.sql.functions as f"
   ],
   "metadata": {
    "collapsed": false,
    "pycharm": {
     "name": "#%%\n"
    }
   }
  },
  {
   "cell_type": "markdown",
   "source": [
    "#### Start Pyspark session and import \"test_data.txt\" as a PySpark table\n",
    "\n",
    "*Note that the provided \"test_data.xlsx\" was converted to tab-separated format on MS Excel*"
   ],
   "metadata": {
    "collapsed": false,
    "pycharm": {
     "name": "#%% md\n"
    }
   }
  },
  {
   "cell_type": "code",
   "execution_count": 2,
   "outputs": [],
   "source": [
    "sc = SparkSession.builder.master(\"local[*]\").getOrCreate()"
   ],
   "metadata": {
    "collapsed": false,
    "pycharm": {
     "name": "#%%\n"
    }
   }
  },
  {
   "cell_type": "code",
   "execution_count": 3,
   "outputs": [],
   "source": [
    "df = sc.read.csv(f\"{path_drive}/test_data.txt\", inferSchema=True, header=True, sep=\"\\t\")"
   ],
   "metadata": {
    "collapsed": false,
    "pycharm": {
     "name": "#%%\n"
    }
   }
  },
  {
   "cell_type": "code",
   "execution_count": 4,
   "outputs": [
    {
     "name": "stdout",
     "output_type": "stream",
     "text": [
      "3000 5\n"
     ]
    }
   ],
   "source": [
    "print(df.count(), len(df.columns))"
   ],
   "metadata": {
    "collapsed": false,
    "pycharm": {
     "name": "#%%\n"
    }
   }
  },
  {
   "cell_type": "code",
   "execution_count": 5,
   "outputs": [
    {
     "name": "stdout",
     "output_type": "stream",
     "text": [
      "root\n",
      " |-- job_id: string (nullable = true)\n",
      " |-- job_title: string (nullable = true)\n",
      " |-- job_description: string (nullable = true)\n",
      " |-- date_posted: string (nullable = true)\n",
      " |-- company_name: string (nullable = true)\n",
      "\n",
      "None\n"
     ]
    }
   ],
   "source": [
    "print(df.printSchema())"
   ],
   "metadata": {
    "collapsed": false,
    "pycharm": {
     "name": "#%%\n"
    }
   }
  },
  {
   "cell_type": "code",
   "execution_count": 6,
   "outputs": [
    {
     "name": "stdout",
     "output_type": "stream",
     "text": [
      "+--------------------+--------------------+--------------------+-----------+--------------+\n",
      "|              job_id|           job_title|     job_description|date_posted|  company_name|\n",
      "+--------------------+--------------------+--------------------+-----------+--------------+\n",
      "|0004462a2bb5b651d...|3 Months Temp Sup...|Summary:<br/><br/...| 2020-11-12|RecruitExpress|\n",
      "|001296f2dad620884...|Specialist (Advan...|We are looking fo...| 2020-11-26|  Confidential|\n",
      "|002b9c2f0f3c5e71c...|BIM Coordinator (...|&bull; Main Con&b...| 2020-11-22|  Confidential|\n",
      "|002f1f6b0a375933c...|IT Support Engine...|Industry: Bunkeri...| 2020-11-11|  Confidential|\n",
      "|004aaba90989955da...|Warehouse Assista...|Provide administr...| 2020-11-23|  Confidential|\n",
      "+--------------------+--------------------+--------------------+-----------+--------------+\n",
      "only showing top 5 rows\n",
      "\n"
     ]
    }
   ],
   "source": [
    "df \\\n",
    "    .orderBy('job_id') \\\n",
    "    .show(5)"
   ],
   "metadata": {
    "collapsed": false,
    "pycharm": {
     "name": "#%%\n"
    }
   }
  },
  {
   "cell_type": "markdown",
   "source": [
    "#### Data Cleaning\n",
    "1. Cast date_posted to data format\n",
    "2. Identify duplicates\n",
    "3. Remove whitespace in string variables\n",
    "4. Identify missing values\n",
    "\n",
    "*1. Cast date_posted as date*"
   ],
   "metadata": {
    "collapsed": false,
    "pycharm": {
     "name": "#%% md\n"
    }
   }
  },
  {
   "cell_type": "code",
   "execution_count": 7,
   "outputs": [],
   "source": [
    "df = df \\\n",
    "    .withColumn('date_posted', f.to_date(f.col('date_posted'), 'yyyy-MM-dd') \\\n",
    "                .alias('date'))"
   ],
   "metadata": {
    "collapsed": false,
    "pycharm": {
     "name": "#%%\n"
    }
   }
  },
  {
   "cell_type": "markdown",
   "source": [
    "*2. Drop duplicates*"
   ],
   "metadata": {
    "collapsed": false,
    "pycharm": {
     "name": "#%% md\n"
    }
   }
  },
  {
   "cell_type": "code",
   "execution_count": 8,
   "outputs": [
    {
     "name": "stdout",
     "output_type": "stream",
     "text": [
      "3000 5\n"
     ]
    }
   ],
   "source": [
    "df = df.dropDuplicates([\"job_id\"])\n",
    "print(df.count(), len(df.columns))"
   ],
   "metadata": {
    "collapsed": false,
    "pycharm": {
     "name": "#%%\n"
    }
   }
  },
  {
   "cell_type": "markdown",
   "source": [
    "*3. Remove whitespace in string variables*"
   ],
   "metadata": {
    "collapsed": false,
    "pycharm": {
     "name": "#%% md\n"
    }
   }
  },
  {
   "cell_type": "code",
   "execution_count": 9,
   "outputs": [
    {
     "data": {
      "text/plain": "['job_id', 'job_title', 'job_description', 'company_name']"
     },
     "execution_count": 9,
     "metadata": {},
     "output_type": "execute_result"
    }
   ],
   "source": [
    "str_cols = [item[0] for item in df.dtypes if item[1] == \"string\"]\n",
    "str_cols"
   ],
   "metadata": {
    "collapsed": false,
    "pycharm": {
     "name": "#%%\n"
    }
   }
  },
  {
   "cell_type": "code",
   "execution_count": 10,
   "outputs": [],
   "source": [
    "for col in str_cols:\n",
    "    df = df \\\n",
    "        .withColumn(col, f.trim(df[col]))"
   ],
   "metadata": {
    "collapsed": false,
    "pycharm": {
     "name": "#%%\n"
    }
   }
  },
  {
   "cell_type": "code",
   "execution_count": 11,
   "outputs": [
    {
     "name": "stdout",
     "output_type": "stream",
     "text": [
      "+--------------------+--------------------+--------------------+-----------+--------------+\n",
      "|              job_id|           job_title|     job_description|date_posted|  company_name|\n",
      "+--------------------+--------------------+--------------------+-----------+--------------+\n",
      "|0004462a2bb5b651d...|3 Months Temp Sup...|Summary:<br/><br/...| 2020-11-12|RecruitExpress|\n",
      "|001296f2dad620884...|Specialist (Advan...|We are looking fo...| 2020-11-26|  Confidential|\n",
      "|002b9c2f0f3c5e71c...|BIM Coordinator (...|&bull; Main Con&b...| 2020-11-22|  Confidential|\n",
      "|002f1f6b0a375933c...|IT Support Engine...|Industry: Bunkeri...| 2020-11-11|  Confidential|\n",
      "|004aaba90989955da...|Warehouse Assista...|Provide administr...| 2020-11-23|  Confidential|\n",
      "+--------------------+--------------------+--------------------+-----------+--------------+\n",
      "only showing top 5 rows\n",
      "\n"
     ]
    }
   ],
   "source": [
    "df \\\n",
    "    .orderBy('job_id') \\\n",
    "    .show(5)"
   ],
   "metadata": {
    "collapsed": false,
    "pycharm": {
     "name": "#%%\n"
    }
   }
  },
  {
   "cell_type": "markdown",
   "source": [
    "*4. Identify any missing values*"
   ],
   "metadata": {
    "collapsed": false
   }
  },
  {
   "cell_type": "code",
   "execution_count": 12,
   "outputs": [
    {
     "data": {
      "text/plain": "0"
     },
     "execution_count": 12,
     "metadata": {},
     "output_type": "execute_result"
    }
   ],
   "source": [
    "df \\\n",
    "    .filter('job_title IS NULL') \\\n",
    "    .count()"
   ],
   "metadata": {
    "collapsed": false,
    "pycharm": {
     "name": "#%%\n"
    }
   }
  },
  {
   "cell_type": "code",
   "execution_count": 13,
   "outputs": [
    {
     "name": "stdout",
     "output_type": "stream",
     "text": [
      "[3000, 3000, 3000, 3000]\n"
     ]
    }
   ],
   "source": [
    "valid_count = []\n",
    "\n",
    "for col in str_cols:\n",
    "    out = df \\\n",
    "        .withColumn(col, f.when(df[col] != 'empty-value', df[col])).count()\n",
    "    valid_count.append(out)\n",
    "\n",
    "print(valid_count)"
   ],
   "metadata": {
    "collapsed": false,
    "pycharm": {
     "name": "#%%\n"
    }
   }
  },
  {
   "cell_type": "markdown",
   "source": [
    "#### Preliminary data exploration\n",
    "\n",
    "*1. total number of jobs posted by DBS*"
   ],
   "metadata": {
    "collapsed": false,
    "pycharm": {
     "name": "#%% md\n"
    }
   }
  },
  {
   "cell_type": "code",
   "execution_count": 14,
   "outputs": [
    {
     "name": "stdout",
     "output_type": "stream",
     "text": [
      "+--------------------+--------------------+--------------------+-----------+----------------+\n",
      "|              job_id|           job_title|     job_description|date_posted|    company_name|\n",
      "+--------------------+--------------------+--------------------+-----------+----------------+\n",
      "|0b75a89c3d37660e4...|Data Engineer,Gro...|!*!Business Funct...| 2020-11-20|             DBS|\n",
      "|1cca7709a8a70f00f...|AVP, Digital Prod...|AVP, Digital Prod...| 2020-11-06|DBS Bank Limited|\n",
      "|2135bd7a1b17a75c5...|Senior Associate ...|!*!Business Funct...| 2020-11-25|             DBS|\n",
      "|311e0ade8d1162e8f...|Direct Contract, ...|Direct Contract, ...| 2020-11-25|DBS Bank Limited|\n",
      "|322659e6a05e11d9d...|AVP/ Senior Assoc...|AVP/ Senior Assoc...| 2020-11-23|DBS Bank Limited|\n",
      "+--------------------+--------------------+--------------------+-----------+----------------+\n",
      "only showing top 5 rows\n",
      "\n"
     ]
    }
   ],
   "source": [
    "df \\\n",
    "    .filter(f.col('company_name') \\\n",
    "            .startswith('DBS')) \\\n",
    "    .orderBy('job_id') \\\n",
    "    .show(5)"
   ],
   "metadata": {
    "collapsed": false,
    "pycharm": {
     "name": "#%%\n"
    }
   }
  },
  {
   "cell_type": "code",
   "execution_count": 15,
   "outputs": [
    {
     "name": "stdout",
     "output_type": "stream",
     "text": [
      "Total number of jobs posted by DBS bank: 21\n"
     ]
    }
   ],
   "source": [
    "dbs_job_count = df \\\n",
    "    .filter(f.col('company_name') \\\n",
    "            .startswith('DBS')) \\\n",
    "    .orderBy('job_id') \\\n",
    "    .count()\n",
    "\n",
    "print(f'Total number of jobs posted by DBS bank: {dbs_job_count}')"
   ],
   "metadata": {
    "collapsed": false,
    "pycharm": {
     "name": "#%%\n"
    }
   }
  },
  {
   "cell_type": "markdown",
   "source": [
    "*2. retrive all jobs posted by companies containing “Pte. Ltd.”*"
   ],
   "metadata": {
    "collapsed": false
   }
  },
  {
   "cell_type": "code",
   "execution_count": 16,
   "outputs": [
    {
     "name": "stdout",
     "output_type": "stream",
     "text": [
      "+--------------------+--------------------+--------------------+-----------+--------------------+\n",
      "|              job_id|           job_title|     job_description|date_posted|        company_name|\n",
      "+--------------------+--------------------+--------------------+-----------+--------------------+\n",
      "|1ce57ba094a5d8253...|Accounts cum Admi...|Job Responsibilit...| 2020-11-02|One Tax CM Pte. L...|\n",
      "|35998862bfc579334...|           Bartender|We are looking fo...| 2020-11-15|J Capital Plus Pt...|\n",
      "|428389f7d5c4a6e7e...|Full-time Persona...|Passion+attitudeT...| 2020-11-19|PURE Internationa...|\n",
      "|efe7dad2065d007c7...|Sales Team Leader...|ASIA&#8217;S LEAD...| 2020-11-05|PURE Internationa...|\n",
      "+--------------------+--------------------+--------------------+-----------+--------------------+\n",
      "\n"
     ]
    }
   ],
   "source": [
    "df \\\n",
    "    .filter(f.col('company_name') \\\n",
    "            .contains('Pte. Ltd')) \\\n",
    "    .orderBy('job_title') \\\n",
    "    .show()"
   ],
   "metadata": {
    "collapsed": false,
    "pycharm": {
     "name": "#%%\n"
    }
   }
  },
  {
   "cell_type": "markdown",
   "source": [
    "*3. count of job postings by date*"
   ],
   "metadata": {
    "collapsed": false,
    "pycharm": {
     "name": "#%% md\n"
    }
   }
  },
  {
   "cell_type": "code",
   "source": [
    "df \\\n",
    "    .groupby('date_posted') \\\n",
    "    .count() \\\n",
    "    .show()"
   ],
   "metadata": {
    "collapsed": false,
    "pycharm": {
     "name": "#%%\n"
    }
   },
   "execution_count": 17,
   "outputs": [
    {
     "name": "stdout",
     "output_type": "stream",
     "text": [
      "+-----------+-----+\n",
      "|date_posted|count|\n",
      "+-----------+-----+\n",
      "| 2020-12-18|    3|\n",
      "| 2020-12-17|    3|\n",
      "| 2020-12-30|    1|\n",
      "| 2020-11-06|   85|\n",
      "| 2020-12-13|    3|\n",
      "| 2020-12-23|    1|\n",
      "| 2020-12-12|    2|\n",
      "| 2020-12-09|    3|\n",
      "| 2020-11-27|  134|\n",
      "| 2020-11-16|   39|\n",
      "| 2020-11-09|  146|\n",
      "| 2020-12-16|    2|\n",
      "| 2020-11-19|  203|\n",
      "| 2020-12-20|    1|\n",
      "| 2020-11-05|   83|\n",
      "| 2020-11-10|  112|\n",
      "| 2020-11-01|   18|\n",
      "| 2020-11-02|   35|\n",
      "| 2020-11-28|    1|\n",
      "| 2020-11-17|  155|\n",
      "+-----------+-----+\n",
      "only showing top 20 rows\n",
      "\n"
     ]
    }
   ]
  },
  {
   "cell_type": "markdown",
   "source": [
    "*4. count of job postings by month*"
   ],
   "metadata": {
    "collapsed": false,
    "pycharm": {
     "name": "#%% md\n"
    }
   }
  },
  {
   "cell_type": "code",
   "execution_count": 18,
   "outputs": [],
   "source": [
    "df = df\\\n",
    "    .withColumn('month', f.month(f.col('date_posted'))\n",
    "                .alias('month'))"
   ],
   "metadata": {
    "collapsed": false,
    "pycharm": {
     "name": "#%%\n"
    }
   }
  },
  {
   "cell_type": "code",
   "execution_count": 19,
   "outputs": [
    {
     "name": "stdout",
     "output_type": "stream",
     "text": [
      "+-----+-----+\n",
      "|month|count|\n",
      "+-----+-----+\n",
      "|   12|   44|\n",
      "|   11| 2956|\n",
      "+-----+-----+\n",
      "\n"
     ]
    }
   ],
   "source": [
    "df\\\n",
    "    .groupby('month')\\\n",
    "    .count()\\\n",
    "    .show()"
   ],
   "metadata": {
    "collapsed": false,
    "pycharm": {
     "name": "#%%\n"
    }
   }
  },
  {
   "cell_type": "code",
   "execution_count": null,
   "outputs": [],
   "source": [],
   "metadata": {
    "collapsed": false,
    "pycharm": {
     "name": "#%%\n"
    }
   }
  }
 ],
 "metadata": {
  "kernelspec": {
   "display_name": "Python 3",
   "language": "python",
   "name": "python3"
  },
  "language_info": {
   "codemirror_mode": {
    "name": "ipython",
    "version": 2
   },
   "file_extension": ".py",
   "mimetype": "text/x-python",
   "name": "python",
   "nbconvert_exporter": "python",
   "pygments_lexer": "ipython2",
   "version": "2.7.6"
  }
 },
 "nbformat": 4,
 "nbformat_minor": 0
}